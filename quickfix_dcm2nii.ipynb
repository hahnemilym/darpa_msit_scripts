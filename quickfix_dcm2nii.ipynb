{
 "cells": [
  {
   "cell_type": "code",
   "execution_count": 1,
   "metadata": {
    "ExecuteTime": {
     "end_time": "2019-01-04T06:29:10.899123Z",
     "start_time": "2019-01-04T06:29:10.262542Z"
    }
   },
   "outputs": [],
   "source": [
    "import csv\n",
    "from itertools import repeat\n",
    "import os\n",
    "import pandas as pd\n",
    "from pandas import read_csv, DataFrame, Index, MultiIndex\n",
    "import copy\n",
    "from IPython.display import display\n",
    "import numpy as np\n",
    "import collections\n",
    "from itertools import dropwhile\n",
    "import os\n",
    "from subprocess import call\n",
    "\n",
    "msit = 'msit'\n",
    "\n",
    "path='/autofs/space'\n",
    "\n",
    "subjlist = 'subs.txt'\n",
    "T_subjs = 'T_subjs.txt'\n",
    "mri_converter='mri_convert_AFNI.csh'\n",
    "\n",
    "mri_convert_AFNI=[]\n",
    "\n",
    "subdir=[]\n",
    "bold_path=[]\n",
    "dcm_list=[]\n",
    "full_dcm_path=[]\n",
    "\n",
    "indiv_pth = os.path.join(path,'lilli_004/users/DARPA-MSIT/msit/subjs')\n",
    "\n",
    "with open('%s/lilli_004/users/DARPA-MSIT/msit/scripts/archive/%s' % (path, subjlist), 'r') as subjlist, \\\n",
    "open('%s/lilli_004/users/DARPA-MSIT/msit/scripts/archive/%s' % (path, T_subjs), 'r') as T_subjs, \\\n",
    "open('%s/lilli_004/users/DARPA-MSIT/msit/scripts/%s' % (path, mri_converter),'w') as scanlist:\n",
    "    for T_sub in T_subjs:\n",
    "        T_sub=T_sub.strip()\n",
    "        bold_path= '%s/lilli_003/users/DARPA-TRANSFER/mri/%s/BOLD/' % (path, T_sub)\n",
    "        d1dir= os.listdir(bold_path)\n",
    "        if d1dir[0].startswith('0'):\n",
    "            subdir.append(os.path.join(bold_path, d1dir[0]))\n",
    "        elif d1dir[1].startswith('0'):\n",
    "            subdir.append(os.path.join(bold_path, d1dir[1]))\n",
    "        else:\n",
    "            subdir.append('NaN')\n",
    "    for pth in subdir:\n",
    "        if os.listdir(pth)[0].startswith('MR'):\n",
    "            dcm_list.append(os.listdir(pth)[0])\n",
    "        elif os.listdir(pth)[1].startswith('MR'):\n",
    "            dcm_list.append(os.listdir(pth)[1])\n",
    "        else:\n",
    "            dcm_list.append('ERROR')\n",
    "    for pth,dcm in zip(subdir,dcm_list):\n",
    "        full_dcm_path.append(os.path.join(pth,dcm))\n",
    "        \n",
    "    for inp,output in zip(full_dcm_path,subjlist):\n",
    "        scanlist.write('mri_convert %s %s/%s/msit_bsm/anat/msit.%s.anat.nii \\n' \\\n",
    "                % (inp,indiv_pth,output.strip(),output.strip()))"
   ]
  },
  {
   "cell_type": "code",
   "execution_count": null,
   "metadata": {
    "collapsed": true
   },
   "outputs": [],
   "source": []
  }
 ],
 "metadata": {
  "kernelspec": {
   "display_name": "Python 2",
   "language": "python",
   "name": "python2"
  },
  "language_info": {
   "codemirror_mode": {
    "name": "ipython",
    "version": 2
   },
   "file_extension": ".py",
   "mimetype": "text/x-python",
   "name": "python",
   "nbconvert_exporter": "python",
   "pygments_lexer": "ipython2",
   "version": "2.7.13"
  },
  "toc": {
   "colors": {
    "hover_highlight": "#DAA520",
    "navigate_num": "#000000",
    "navigate_text": "#333333",
    "running_highlight": "#FF0000",
    "selected_highlight": "#FFD700",
    "sidebar_border": "#EEEEEE",
    "wrapper_background": "#FFFFFF"
   },
   "moveMenuLeft": true,
   "nav_menu": {
    "height": "12px",
    "width": "252px"
   },
   "navigate_menu": true,
   "number_sections": true,
   "sideBar": true,
   "threshold": 4,
   "toc_cell": false,
   "toc_section_display": "block",
   "toc_window_display": false,
   "widenNotebook": false
  }
 },
 "nbformat": 4,
 "nbformat_minor": 2
}
